{
 "cells": [
  {
   "cell_type": "markdown",
   "id": "35582f5f",
   "metadata": {},
   "source": [
    "# 1: Preamble"
   ]
  },
  {
   "cell_type": "code",
   "execution_count": 10,
   "id": "aba918cf",
   "metadata": {},
   "outputs": [],
   "source": [
    "import pandas as pd                       #the generic package for data management,\n",
    "import biogeme.database as db             #the Biogeme package for data management,\n",
    "import biogeme.biogeme as bio             #the Biogeme extensions to Python.\n",
    "import biogeme.models as models\n",
    "import biogeme.version as ver\n",
    "from biogeme.expressions import Beta\n",
    "import datetime                           # Modle for date and time\n",
    "import os                                 # Module for filename"
   ]
  },
  {
   "cell_type": "code",
   "execution_count": 11,
   "id": "c0df7c87",
   "metadata": {},
   "outputs": [],
   "source": [
    "# Define Parameters\n",
    "Product = [\"Socks\", \"T-Shirt\", \"Pants\", \"Suit\"]\n",
    "Country = [\"Germany\", \"Australia\", \"Total\"]\n",
    "Country_Code = [\"GER\", \"AUS\", \"TOT\"]\n",
    "Label = [\"Without label\", \"With label\"]\n",
    "Label_Code = [\"WL\", \"WoL\"]"
   ]
  },
  {
   "cell_type": "code",
   "execution_count": 12,
   "id": "c579e46c",
   "metadata": {},
   "outputs": [],
   "source": [
    "#Set working directory\n",
    "os.chdir('G:\\\\Meine Ablage\\\\00_Promotion\\\\15 Experiment\\\\05 Analysis\\\\01 Biogeme')\n",
    "#os.chdir('c:\\\\Users\\\\uname\\\\desktop\\\\python')"
   ]
  },
  {
   "cell_type": "code",
   "execution_count": 13,
   "id": "0e929e49",
   "metadata": {},
   "outputs": [
    {
     "data": {
      "text/plain": [
       "'3.2.11'"
      ]
     },
     "execution_count": 13,
     "metadata": {},
     "output_type": "execute_result"
    }
   ],
   "source": [
    "# Check Version of Biogeme\n",
    "ver.getVersion()"
   ]
  },
  {
   "cell_type": "markdown",
   "id": "ab1f716d",
   "metadata": {},
   "source": [
    "# 2 Biogeme Parameter Definition"
   ]
  },
  {
   "cell_type": "code",
   "execution_count": 14,
   "id": "b85a794a",
   "metadata": {},
   "outputs": [],
   "source": [
    "A1_ASC = Beta('A1_ASC', 0, None, None, 0)\n",
    "A2_ASC = Beta('A2_ASC', 0, None, None, 1)\n",
    "A3_ASC = Beta('A3_ASC', 0, None, None, 0)\n",
    "B_PRICE = Beta('B_PRICE', 0, None, None, 0)\n",
    "B_MAT_OC = Beta('B_MAT_OC', 0, None, None, 0)\n",
    "B_MAT_WO = Beta('B_MAT_WO', 0, None, None, 0)\n",
    "B_MAT_RM = Beta('B_MAT_RM', 0, None, None, 0)\n",
    "B_MAT_PE = Beta('B_MAT_PE', 0, None, None, 0)\n",
    "B_COM_EUR = Beta('B_COM_EUR', 0, None, None, 0)\n",
    "B_COM_BGD = Beta('B_COM_BGD', 0, None, None, 0)\n",
    "B_COM_VNM = Beta('B_COM_VNM', 0, None, None, 0)\n",
    "B_COM_A_G = Beta('B_COM_A_G', 0, None, None, 0)\n",
    "B_Q_MED = Beta('B_Q_MED', 0, None, None, 0)\n",
    "B_Q_HIGH = Beta('B_Q_HIGH', 0, None, None, 0)\n",
    "B_L1_E_CO2 = Beta('B_L1_E_CO2', 0, None, None, 0)\n",
    "B_L1_E_WAT = Beta('B_L1_E_WAT', 0, None, None, 0)\n",
    "B_L1_E_WAS = Beta('B_L1_E_WAS', 0, None, None, 0)\n",
    "B_L1_E_ENE = Beta('B_L1_E_ENE', 0, None, None, 0)\n",
    "B_L1_S_WFS = Beta('B_L1_S_WFS', 0, None, None, 0)\n",
    "B_L1_S_HRS = Beta('B_L1_S_HRS', 0, None, None, 0)\n",
    "B_L1_G_MGS = Beta('B_L1_G_MGS', 0, None, None, 0)\n",
    "B_L1_G_CSR = Beta('B_L1_G_CSR', 0, None, None, 0)\n",
    "B_L2 = Beta('B_L2', 0, None, None, 0)\n",
    "B_L2_E = Beta('B_L2_E', 0, None, None, 0)\n",
    "B_L2_S = Beta('B_L2_S', 0, None, None, 0)\n",
    "B_L2_G = Beta('B_L2_G', 0, None, None, 0)\n",
    "\n",
    "B_L3 = Beta('B_L3', 0, None, None, 0)\n",
    "B_L3_E_Imp = Beta('B_L3_E_Imp', 0, None, None, 0)\n",
    "B_L3_S_Imp = Beta('B_L3_S_Imp', 0, None, None, 0)\n",
    "B_L3_G_Imp = Beta('B_L3_G_Imp', 0, None, None, 0)\n",
    "\n",
    "B_L4 = Beta('B_L4', 0, None, None, 0)\n",
    "B_L4_E = Beta('B_L4_E', 0, None, None, 0)\n",
    "B_L4_E_Yellow = Beta('B_L4_E_Yellow', 0, None, None, 0)\n",
    "B_L4_E_Green = Beta('B_L4_E_Green', 0, None, None, 0)\n",
    "B_L4_S = Beta('B_L4_S', 0, None, None, 0)\n",
    "B_L4_S_Yellow = Beta('B_L4_S_Yellow', 0, None, None, 0)\n",
    "B_L4_S_Green = Beta('B_L4_S_Green', 0, None, None, 0)\n",
    "B_L4_G = Beta('B_L4_G', 0, None, None, 0)\n",
    "B_L4_G_Yellow = Beta('B_L4_G_Yellow', 0, None, None, 0)\n",
    "B_L4_G_Green = Beta('B_L4_G_Green', 0, None, None, 0)\n",
    "\n",
    "\n",
    "\n",
    "# Name; Default value as starting point; lower bound; upper bound; 0 or 1, for 0 estimation form data, for 1 usage of starting point"
   ]
  },
  {
   "cell_type": "markdown",
   "id": "6f62aa3f",
   "metadata": {},
   "source": [
    "# 3: Data preparation"
   ]
  },
  {
   "cell_type": "code",
   "execution_count": 15,
   "id": "11e21c76",
   "metadata": {
    "scrolled": false
   },
   "outputs": [],
   "source": [
    "# Read Input data\n",
    "df = pd.read_excel(r'G:\\Meine Ablage\\00_Promotion\\15 Experiment\\04 Data Prep\\20230821_Data Prep.xlsx', sheet_name=\"Master_Data\") #reads the data from the file, and store it in a Pandas sata structure.\n",
    "# Only include completed -> STATUS==7\n",
    "#df = df.query(\"STATUS==7\")\n",
    "df = df.query(\"Usability=='Include'\")\n",
    "\n",
    "df_Para_Order = pd.read_excel(r'G:\\Meine Ablage\\00_Promotion\\15 Experiment\\04 Data Prep\\20230821_Data Prep.xlsx', sheet_name=\"Parameter_Order\", index_col=0)"
   ]
  },
  {
   "cell_type": "code",
   "execution_count": 16,
   "id": "80c8f5bf",
   "metadata": {},
   "outputs": [],
   "source": [
    "# Define parameters of running analysis for saving files\n",
    "time = datetime.datetime.now()\n",
    "time=time.strftime(\"%y\")+time.strftime(\"%m\")+time.strftime(\"%d\")+\"_\"+time.strftime(\"%H\")+time.strftime(\"%M\")\n",
    "\n",
    "time2 = datetime.datetime.now()\n",
    "time2=time2.strftime(\"%Y\")+time2.strftime(\"%m\")+time2.strftime(\"%d\")+\"_\"+time2.strftime(\"%H\")+time2.strftime(\"%M\")\n",
    "\n",
    "\n",
    "#init = pd.DataFrame([\"Input Data\"], columns=['Type'])\n",
    "path = r'G:\\Meine Ablage\\00_Promotion\\15 Experiment\\05 Analysis\\20' + time + '_Export.xlsx'\n",
    "path_results = r'G:\\Meine Ablage\\00_Promotion\\15 Experiment\\05 Analysis\\20' + time + '_Results_FM_TLB_Impact_Forced.xlsx'"
   ]
  },
  {
   "cell_type": "code",
   "execution_count": 17,
   "id": "f2fe5da6",
   "metadata": {},
   "outputs": [],
   "source": [
    "## Initialize Excel file\n",
    "#init = pd.DataFrame([\"Input Data\"], columns=['Type']['Description'])\n",
    "#init_result = pd.DataFrame([\"Results\",\"Test\"], columns=['Type'])\n",
    "\n",
    "init_result = pd.DataFrame({'Beta':[\"A1_ASC\", \"A3_ASC\", \"\", \"Price\", \"B_PRICE\", \"\", \"Material\", \"B_MAT_OC\", \"B_MAT_PE\", \"B_MAT_RM\", \"B_MAT_WO\", \"\", \"Country of Manufacturing\", \"B_COM_A_G\", \"B_COM_BGD\", \"B_COM_EUR\", \"B_COM_VNM\", \"\", \"Quality\", \"B_Q_HIGH\", \"B_Q_MED\", \"\", \"Type of label\", \"B_L2\", \"B_L3\", \"B_L4\", \"\", \"Label 1\", \"B_L1_E_CO2\", \"B_L1_E_ENE\", \"B_L1_E_WAS\", \"B_L1_E_WAT\", \"B_L1_G_CSR\", \"B_L1_G_MGS\", \"B_L1_S_HRS\", \"B_L1_S_WFS\", \"\", \"Label 2\", \"B_L2_E\", \"B_L2_G\", \"B_L2_S\", \"\", \"Label 3\", \"B_L3_E_Imp\", \"B_L3_G_Imp\", \"B_L3_S_Imp\", \"\", \"Label 4\", \"B_L4_E\", \"B_L4_E_Yellow\", \"B_L4_E_Green\", \"B_L4_S\", \"B_L4_S_Yellow\", \"B_L4_S_Green\", \"B_L4_G\", \"B_L4_G_Yellow\", \"B_L4_G_Green\"],\n",
    "                            'Description':[\"Alternative 1 ASC\", \"Alternative 3 ASC\", \"\", \"\", \"Price\", \"\", \"Standard: Conventional Cotton\", \"Material | Organic Cotton\", \"Material | Polyester\", \"Material | Recycled Materials\", \"Material | Wool\", \"\", \"Standard: China\", \"Country of Manufacturing: Australia/Germany\", \"Country of Manufacturing: Bangladesh\", \"Country of Manufacturing: Europe\", \"Country of Manufacturing: Vietnam\", \"\", \"Standard: Low\", \"Quality | High\", \"Quality | Medium\", \"\", \"Standard: Label 1 (Text only)\", \"Label 2 (Scorecard)\", \"Label 3 (Scorecard + Impact)\", \"Label 4 (Traffic light)\", \"\", \"Text only\", \"Label 1 | Environment | CO2\", \"Label 1 | Environment | Energy Consumption\", \"Label 1 | Environment | Waste production\", \"Label 1 | Environment | Water consumption\", \"Label 1 | Governance | CSR Strategy Score\", \"Label 1 | Governance | Management Score\", \"Label 1 | Social | Human Rights Score\", \"Label 1 | Social | Workforce Score\", \"\", \"Scorecard\", \"Label 2 | Environment\", \"Label 2 | Governance\", \"Label 2 | Social\", \"\", \"Scorecard + Impact\", \"Label 3 | Environment Impact\", \"Label 3 | Governance Impact\", \"Label 3 | Social Impact\", \"\", \"Traffic Light\", \"Label 4 | Environment\", \"Label 4 | Environment | Yellow\", \"Label 4 | Environment | Green\", \"Label 4 | Social\", \"Label 4 | Social | Yellow\", \"Label 4 | Social | Green\", \"Label 4 | Governance\", \"Label 4 | Governance | Yellow\", \"Label 4 | Governance | Green\"]})\n",
    "\n",
    "\n",
    "\n",
    "\n",
    "\n",
    "#init.to_excel(path , sheet_name=\"Info\" ,index=False)\n",
    "init_result.to_excel(path_results , sheet_name=\"Info\" ,index=False)\n",
    "\n",
    "\n",
    "for x in Country:\n",
    "    for y in Product:\n",
    "\n",
    "        # Create dataframes one for with and one for without labels. Loop over country and product;\n",
    "        if x == \"Total\":\n",
    "            df_WOL = df.query(\"Product==@y and Label=='Without label'\")\n",
    "            df_WL = df.query(\"Product==@y and Label=='With label'\")            \n",
    "        \n",
    "        \n",
    "        else:\n",
    "        # Create dataframes one for with and one for without labels. Loop over country and product; \n",
    "            df_WOL = df.query(\"Country==@x and Product==@y and Label=='Without label'\")\n",
    "            df_WL = df.query(\"Country==@x and Product==@y and Label=='With label'\")        \n",
    "        \n",
    "        \n",
    "        # Only keep columns relevant for Biogeme Estimation\n",
    "        df_WL_Clean = df_WL[['RID_New', 'BEST', 'FORCED', 'WORST', 'a1_x1', 'a1_x2', 'A1_PRICE', 'a1_x3', 'A1_MAT_CC', 'A1_MAT_OC', 'A1_MAT_WO', 'A1_MAT_RM', 'A1_MAT_PE', 'a1_x4', 'A1_COM_CHN', 'A1_COM_EUR', 'A1_COM_BGD', 'A1_COM_VNM', 'A1_COM_A_G', 'a1_x5', 'A1_Q_LOW', 'A1_Q_MED', 'A1_Q_HIGH', 'a1_x6', 'A1_Label', 'A1_L1', 'A1_L1_E_CO2', 'A1_L1_E_WAT', 'A1_L1_E_WAS', 'A1_L1_E_ENE', 'A1_L1_S_WFS', 'A1_L1_S_HRS', 'A1_L1_G_MGS', 'A1_L1_G_CSR', 'A1_L2', 'A1_L2_E', 'A1_L2_S', 'A1_L2_G', 'A1_L3', 'A1_L3_E_Imp', 'A1_L3_S_Imp', 'A1_L3_G_Imp', 'A1_L4', 'A1_L4_E', 'A1_L4_E_Red', 'A1_L4_E_Yellow', 'A1_L4_E_Green', 'A1_L4_S', 'A1_L4_S_Red', 'A1_L4_S_Yellow', 'A1_L4_S_Green', 'A1_L4_G', 'A1_L4_G_Red', 'A1_L4_G_Yellow', 'A1_L4_G_Green', 'a2_x1', 'a2_x2', 'A2_PRICE', 'a2_x3', 'A2_MAT_CC', 'A2_MAT_OC', 'A2_MAT_WO', 'A2_MAT_RM', 'A2_MAT_PE', 'a2_x4', 'A2_COM_CHN', 'A2_COM_EUR', 'A2_COM_BGD', 'A2_COM_VNM', 'A2_COM_A_G', 'a2_x5', 'A2_Q_LOW', 'A2_Q_MED', 'A2_Q_HIGH', 'a2_x6', 'A2_Label', 'A2_L1', 'A2_L1_E_CO2', 'A2_L1_E_WAT', 'A2_L1_E_WAS', 'A2_L1_E_ENE', 'A2_L1_S_WFS', 'A2_L1_S_HRS', 'A2_L1_G_MGS', 'A2_L1_G_CSR', 'A2_L2', 'A2_L2_E', 'A2_L2_S', 'A2_L2_G', 'A2_L3', 'A2_L3_E_Imp', 'A2_L3_S_Imp', 'A2_L3_G_Imp', 'A2_L4', 'A2_L4_E', 'A2_L4_E_Red', 'A2_L4_E_Yellow', 'A2_L4_E_Green', 'A2_L4_S', 'A2_L4_S_Red', 'A2_L4_S_Yellow', 'A2_L4_S_Green', 'A2_L4_G', 'A2_L4_G_Red', 'A2_L4_G_Yellow', 'A2_L4_G_Green', 'a3_x1', 'a3_x2', 'a3_x3', 'a3_x4', 'a3_x5', 'a3_x6']]\n",
    "        df_WOL_Clean =df_WOL[['RID_New', 'BEST', 'FORCED', 'WORST', 'a1_x1', 'a1_x2', 'A1_PRICE', 'a1_x3', 'A1_MAT_CC', 'A1_MAT_OC', 'A1_MAT_WO', 'A1_MAT_RM', 'A1_MAT_PE', 'a1_x4', 'A1_COM_CHN', 'A1_COM_EUR', 'A1_COM_BGD', 'A1_COM_VNM', 'A1_COM_A_G', 'a1_x5', 'A1_Q_LOW', 'A1_Q_MED', 'A1_Q_HIGH', 'a2_x1', 'a2_x2', 'A2_PRICE', 'a2_x3', 'A2_MAT_CC', 'A2_MAT_OC', 'A2_MAT_WO', 'A2_MAT_RM', 'A2_MAT_PE', 'a2_x4', 'A2_COM_CHN', 'A2_COM_EUR', 'A2_COM_BGD', 'A2_COM_VNM', 'A2_COM_A_G', 'a2_x5', 'A2_Q_LOW', 'A2_Q_MED', 'A2_Q_HIGH', 'a3_x1', 'a3_x2', 'a3_x3', 'a3_x4', 'a3_x5']]\n",
    "        \n",
    "        # Save Data in Excel\n",
    "#        with pd.ExcelWriter(path, mode='a', if_sheet_exists='replace') as writer:\n",
    "#            df_WL_Clean.to_excel(writer, sheet_name=x+\"_\"+y+\"_WL\", index=False)\n",
    "#            df_WOL_Clean.to_excel(writer, sheet_name=x+\"_\"+y+\"_WOL\", index=False)\n",
    "           \n",
    "        #Prepare database for Biogeme.\n",
    "        database_WL = db.Database(\"Data_WL\", df_WL_Clean)\n",
    "        database_WOL = db.Database(\"Data_WOL\", df_WOL_Clean)\n",
    "        \n",
    "        # Define the name of the variables as Python variables: This command reads the first row of data as variable names.\n",
    "        globals().update(database_WL.variables) \n",
    "        globals().update(database_WOL.variables) \n",
    "        \n",
    "        \n",
    "        \n",
    "        \n",
    "        \n",
    "        # Utility functions\n",
    "        ## Without label\n",
    "        V1_WOL = A1_ASC + B_PRICE * A1_PRICE + B_MAT_OC * A1_MAT_OC + B_MAT_WO * A1_MAT_WO + B_MAT_RM * A1_MAT_RM + B_MAT_PE * A1_MAT_PE + B_COM_EUR * A1_COM_EUR + B_COM_BGD * A1_COM_BGD + B_COM_VNM * A1_COM_VNM + B_COM_A_G * A1_COM_A_G + B_Q_MED * A1_Q_MED + B_Q_HIGH * A1_Q_HIGH\n",
    "        V2_WOL = A2_ASC + B_PRICE * A2_PRICE + B_MAT_OC * A2_MAT_OC + B_MAT_WO * A2_MAT_WO + B_MAT_RM * A2_MAT_RM + B_MAT_PE * A2_MAT_PE + B_COM_EUR * A2_COM_EUR + B_COM_BGD * A2_COM_BGD + B_COM_VNM * A2_COM_VNM + B_COM_A_G * A2_COM_A_G + B_Q_MED * A2_Q_MED + B_Q_HIGH * A2_Q_HIGH\n",
    "        V3_WOL = A3_ASC\n",
    "\n",
    "        ## With label\n",
    "        V1_WL = A1_ASC + B_PRICE * A1_PRICE + B_MAT_OC * A1_MAT_OC + B_MAT_WO * A1_MAT_WO + B_MAT_RM * A1_MAT_RM + B_MAT_PE * A1_MAT_PE + B_COM_EUR * A1_COM_EUR + B_COM_BGD * A1_COM_BGD + B_COM_VNM * A1_COM_VNM + B_COM_A_G * A1_COM_A_G + B_Q_MED * A1_Q_MED + B_Q_HIGH * A1_Q_HIGH + B_L1_E_CO2 * A1_L1_E_CO2 + B_L1_E_WAT * A1_L1_E_WAT + B_L1_E_WAS * A1_L1_E_WAS + B_L1_E_ENE * A1_L1_E_ENE + B_L1_S_WFS * A1_L1_S_WFS + B_L1_S_HRS * A1_L1_S_HRS + B_L1_G_MGS * A1_L1_G_MGS + B_L1_G_CSR * A1_L1_G_CSR + B_L2 * A1_L2 + B_L2_E * A1_L2_E + B_L2_S * A1_L2_S + B_L2_G * A1_L2_G + B_L3 * A1_L3 + B_L3_E_Imp * A1_L3_E_Imp + B_L3_S_Imp * A1_L3_S_Imp + B_L3_G_Imp * A1_L3_G_Imp + B_L4 * A1_L4 + B_L4_E_Yellow * A1_L4_E_Yellow + B_L4_E_Green * A1_L4_E_Green + B_L4_S_Yellow * A1_L4_S_Yellow + B_L4_S_Green * A1_L4_S_Green + B_L4_G_Yellow * A1_L4_G_Yellow + B_L4_G_Green * A1_L4_G_Green\n",
    "        V2_WL = A2_ASC + B_PRICE * A2_PRICE + B_MAT_OC * A2_MAT_OC + B_MAT_WO * A2_MAT_WO + B_MAT_RM * A2_MAT_RM + B_MAT_PE * A2_MAT_PE + B_COM_EUR * A2_COM_EUR + B_COM_BGD * A2_COM_BGD + B_COM_VNM * A2_COM_VNM + B_COM_A_G * A2_COM_A_G + B_Q_MED * A2_Q_MED + B_Q_HIGH * A2_Q_HIGH + B_L1_E_CO2 * A2_L1_E_CO2 + B_L1_E_WAT * A2_L1_E_WAT + B_L1_E_WAS * A2_L1_E_WAS + B_L1_E_ENE * A2_L1_E_ENE + B_L1_S_WFS * A2_L1_S_WFS + B_L1_S_HRS * A2_L1_S_HRS + B_L1_G_MGS * A2_L1_G_MGS + B_L1_G_CSR * A2_L1_G_CSR + B_L2 * A2_L2 + B_L2_E * A2_L2_E + B_L2_S * A2_L2_S + B_L2_G * A2_L2_G + B_L3 * A2_L3 + B_L3_E_Imp * A2_L3_E_Imp + B_L3_S_Imp * A2_L3_S_Imp + B_L3_G_Imp * A2_L3_G_Imp + B_L4 * A2_L4 + B_L4_E_Yellow * A2_L4_E_Yellow + B_L4_E_Green * A2_L4_E_Green + B_L4_S_Yellow * A2_L4_S_Yellow + B_L4_S_Green * A2_L4_S_Green + B_L4_G_Yellow * A2_L4_G_Yellow + B_L4_G_Green * A2_L4_G_Green\n",
    "        V3_WL = A3_ASC\n",
    "\n",
    "\n",
    "        \n",
    "        \n",
    "        \n",
    "        # Associate the utility with the numbering of the alternative\n",
    "        ## Without label\n",
    "        V_WOL = {1: V1_WOL,\n",
    "                 2: V2_WOL,\n",
    "                 3: V3_WOL}\n",
    "\n",
    "        ## With label\n",
    "        V_WL = {1: V1_WL,\n",
    "                2: V2_WL,\n",
    "                3: V3_WL}\n",
    "        \n",
    "        # Availability condition\n",
    "        av = {1: 1,\n",
    "              2: 1,\n",
    "              3: 1}        \n",
    "        \n",
    "        \n",
    "        # Dictionary of utility function, dictionary of availability condition, Name of variable where choice has been recorded\n",
    "        logprob_WOL = models.loglogit(V_WOL, av, FORCED)\n",
    "        logprob_WL = models.loglogit(V_WL, av, FORCED)\n",
    "        \n",
    "        # Initialization of biogeme\n",
    "        biogeme_WOL = bio.BIOGEME(database_WOL, logprob_WOL)\n",
    "        biogeme_WL = bio.BIOGEME(database_WL, logprob_WL)\n",
    "        \n",
    "        #Output Model\n",
    "        biogeme_WOL.modelName = \"20\"+time+'_01logit_'+x+\"_\"+y+\"_WOL\"\n",
    "        biogeme_WL.modelName =  \"20\"+time+'_01logit_'+x+\"_\"+y+\"_WL\"\n",
    "        \n",
    "        # Model Estimation\n",
    "        results_WOL = biogeme_WOL.estimate()\n",
    "        results_WL = biogeme_WL.estimate()\n",
    "        \n",
    "        \n",
    "        #Read the results\n",
    "        pandasResults_WOL = results_WOL.getEstimatedParameters()\n",
    "        pandasResults_WOL       \n",
    "        pandasResults_WL = results_WL.getEstimatedParameters()\n",
    "        pandasResults_WL      \n",
    "        \n",
    "        # Order to Betas\n",
    "        pandasResults_WOL = pandasResults_WOL.join(df_Para_Order)\n",
    "     #   pandasResults_WOL.sort_values('Order')\n",
    "        \n",
    "        pandasResults_WL = pandasResults_WL.join(df_Para_Order)\n",
    "     #   pandasResults_WL.sort_values('Order')\n",
    "    \n",
    "\n",
    "        \n",
    "        #### GENERAL STATISTICS\n",
    "        #General statistics WL\n",
    "        General_stats_WL = results_WL.getGeneralStatistics()\n",
    "        GS_WL = pd.DataFrame.from_dict(General_stats_WL)\n",
    "        GS_WL = GS_WL.T\n",
    "        GS_WL = GS_WL.rename(columns={0:'Value'})\n",
    "        GS_WL.index.names = ['Parameter']\n",
    "        GS_WL = GS_WL[['Value']]\n",
    "        \n",
    "        #General statistics WOL \n",
    "        General_stats_WOL = results_WOL.getGeneralStatistics()\n",
    "        GS_WOL = pd.DataFrame.from_dict(General_stats_WOL)\n",
    "        GS_WOL = GS_WOL.T\n",
    "        GS_WOL = GS_WOL.rename(columns={0:'Value'})\n",
    "        GS_WOL.index.names = ['Parameter']\n",
    "        GS_WOL = GS_WOL[['Value']]\n",
    "\n",
    "         # Save Data in Excel\n",
    "        with pd.ExcelWriter(path_results, mode='a', if_sheet_exists='replace') as writer:\n",
    "            pandasResults_WL.sort_values('Order').to_excel(writer, sheet_name=x+\"_\"+y+\"_WL\", index=True)\n",
    "            pandasResults_WOL.sort_values('Order').to_excel(writer, sheet_name=x+\"_\"+y+\"_WOL\", index=True)\n",
    "            \n",
    "            \n",
    "        with pd.ExcelWriter(path_results, mode='a', if_sheet_exists='overlay') as writer:\n",
    "            GS_WL.to_excel(writer, sheet_name=x+\"_\"+y+\"_WL\", index=True, startcol=8)\n",
    "            GS_WOL.to_excel(writer, sheet_name=x+\"_\"+y+\"_WOL\", index=True, startcol=8)  \n",
    "                    \n",
    "#        print(results_WL)\n",
    "#        print(results_WOL)\n",
    "#        print(pandasResults_WL)\n",
    "#        print(pandasResults_WOL)\n",
    "#        print(General_stats_WL)\n",
    "#        print(GS_WL)\n",
    "#        print(GS_WOL)"
   ]
  },
  {
   "cell_type": "code",
   "execution_count": 18,
   "id": "fc6216bb",
   "metadata": {
    "scrolled": false
   },
   "outputs": [],
   "source": [
    "#Latex = results_WL.getLaTeX()\n",
    "#print(Latex)"
   ]
  },
  {
   "cell_type": "code",
   "execution_count": null,
   "id": "7d47293a",
   "metadata": {},
   "outputs": [],
   "source": [
    "\n",
    "\n"
   ]
  },
  {
   "cell_type": "code",
   "execution_count": null,
   "id": "3cf10bde",
   "metadata": {},
   "outputs": [],
   "source": [
    "\n"
   ]
  },
  {
   "cell_type": "code",
   "execution_count": null,
   "id": "f912beb5",
   "metadata": {},
   "outputs": [],
   "source": []
  },
  {
   "cell_type": "code",
   "execution_count": null,
   "id": "67ddc497",
   "metadata": {},
   "outputs": [],
   "source": []
  },
  {
   "cell_type": "code",
   "execution_count": null,
   "id": "d180f82b",
   "metadata": {},
   "outputs": [],
   "source": []
  },
  {
   "cell_type": "code",
   "execution_count": null,
   "id": "891d0799",
   "metadata": {},
   "outputs": [],
   "source": []
  }
 ],
 "metadata": {
  "kernelspec": {
   "display_name": "Python 3 (ipykernel)",
   "language": "python",
   "name": "python3"
  },
  "language_info": {
   "codemirror_mode": {
    "name": "ipython",
    "version": 3
   },
   "file_extension": ".py",
   "mimetype": "text/x-python",
   "name": "python",
   "nbconvert_exporter": "python",
   "pygments_lexer": "ipython3",
   "version": "3.10.9"
  }
 },
 "nbformat": 4,
 "nbformat_minor": 5
}

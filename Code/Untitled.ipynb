{
 "cells": [
  {
   "cell_type": "code",
   "execution_count": null,
   "id": "d2eaf2f9-62fb-4634-b6a2-0a1b369e9b45",
   "metadata": {},
   "outputs": [],
   "source": [
    "from edgar import Company, TXTML\n",
    "\n",
    "def get_ticker_symbol(company_name, sic_code):\n",
    "    # Create a Company object with the SIC code\n",
    "    cik_lookup = Company(name=company_name, sic=None, siccode=sic_code)\n",
    "\n",
    "    # Search for the company's filings\n",
    "    cik = cik_lookup.get_cik()\n",
    "\n",
    "    # Get the latest 10-K filing\n",
    "    latest_10k = cik_lookup.get_10K_filing()\n",
    "\n",
    "    # Extract the ticker symbol from the 10-K filing\n",
    "    doc = TXTML.parse_full_10K(latest_10k)\n",
    "    ticker_symbol = doc.get_ticker()\n",
    "\n",
    "    return ticker_symbol\n",
    "\n",
    "# Example usage\n",
    "company_name = 'Example Company'\n",
    "sic_code = '1234'  # Replace with the actual SIC code of the company\n",
    "ticker_symbol = get_ticker_symbol(company_name, sic_code)\n",
    "\n",
    "if ticker_symbol:\n",
    "    print(f\"The ticker symbol for {company_name} is {ticker_symbol}.\")\n",
    "else:\n",
    "    print(f\"No ticker symbol found for {company_name}.\")\n"
   ]
  }
 ],
 "metadata": {
  "kernelspec": {
   "display_name": "Python (pyenv)",
   "language": "python",
   "name": "pyenv"
  },
  "language_info": {
   "codemirror_mode": {
    "name": "ipython",
    "version": 3
   },
   "file_extension": ".py",
   "mimetype": "text/x-python",
   "name": "python",
   "nbconvert_exporter": "python",
   "pygments_lexer": "ipython3",
   "version": "3.10.9"
  }
 },
 "nbformat": 4,
 "nbformat_minor": 5
}
